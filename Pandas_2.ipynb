{
 "cells": [
  {
   "cell_type": "code",
   "execution_count": 1,
   "id": "870ad75c",
   "metadata": {},
   "outputs": [
    {
     "name": "stdout",
     "output_type": "stream",
     "text": [
      "0        10\n",
      "1        20\n",
      "2        30\n",
      "3        40\n",
      "4      Amol\n",
      "5    Chetan\n",
      "6    Nitesh\n",
      "dtype: object\n"
     ]
    }
   ],
   "source": [
    "# pandas Series example\n",
    "import pandas as pd\n",
    "import numpy as np\n",
    "\n",
    "i = np.array([10,20,30,40,'Amol','Chetan','Nitesh'])\n",
    "j = pd.Series(i)\n",
    "print(j)"
   ]
  },
  {
   "cell_type": "code",
   "execution_count": 2,
   "id": "ff2f4714",
   "metadata": {},
   "outputs": [
    {
     "name": "stdout",
     "output_type": "stream",
     "text": [
      "        0\n",
      "0      10\n",
      "1      20\n",
      "2      30\n",
      "3      40\n",
      "4    Amol\n",
      "5  Chetan\n",
      "6  Nitesh\n"
     ]
    }
   ],
   "source": [
    "# pandas DataFrame example\n",
    "import pandas as pd\n",
    "import numpy as np\n",
    "\n",
    "i = np.array([10,20,30,40,'Amol','Chetan','Nitesh'])\n",
    "j = pd.DataFrame(i)\n",
    "print(j)"
   ]
  },
  {
   "cell_type": "code",
   "execution_count": 5,
   "id": "8d7af2be",
   "metadata": {},
   "outputs": [
    {
     "name": "stdout",
     "output_type": "stream",
     "text": [
      "     Amol Chetan Nitesh\n",
      "0  python      C   MPSC\n",
      "1     CSS    C++    PSI\n",
      "2    HTML    SQL    STI\n"
     ]
    }
   ],
   "source": [
    "# pandas DataFrame example\n",
    "import pandas as pd\n",
    "import numpy as np\n",
    "\n",
    "i={\n",
    "    'Amol':['python','CSS','HTML'],\n",
    "    'Chetan':['C','C++','SQL'],\n",
    "    'Nitesh':['MPSC','PSI','STI']\n",
    "}\n",
    "j = pd.DataFrame(i)\n",
    "print(j)"
   ]
  },
  {
   "cell_type": "code",
   "execution_count": 1,
   "id": "1b8f336d",
   "metadata": {},
   "outputs": [
    {
     "name": "stdout",
     "output_type": "stream",
     "text": [
      "Series([], dtype: float64)\n"
     ]
    },
    {
     "name": "stderr",
     "output_type": "stream",
     "text": [
      "C:\\Users\\India\\AppData\\Local\\Temp/ipykernel_6184/941181375.py:4: DeprecationWarning: The default dtype for empty Series will be 'object' instead of 'float64' in a future version. Specify a dtype explicitly to silence this warning.\n",
      "  i = pd.Series()\n"
     ]
    }
   ],
   "source": [
    "# Empty Series Example\n",
    "import pandas as pd\n",
    "\n",
    "i = pd.Series()\n",
    "print(i)"
   ]
  },
  {
   "cell_type": "code",
   "execution_count": 6,
   "id": "a32a856d",
   "metadata": {},
   "outputs": [
    {
     "name": "stdout",
     "output_type": "stream",
     "text": [
      "0       10\n",
      "1       20\n",
      "2       30\n",
      "3       40\n",
      "4    data1\n",
      "5    data2\n",
      "6    data3\n",
      "7    10.25\n",
      "dtype: object\n"
     ]
    }
   ],
   "source": [
    "# Series example with 1D\n",
    "import pandas as pd\n",
    "import numpy as np\n",
    "\n",
    "i = np.array([10,20,30,40,'data1','data2','data3',10.25])\n",
    "j = pd.Series(i)\n",
    "print(j)"
   ]
  },
  {
   "cell_type": "code",
   "execution_count": 18,
   "id": "5fda1e75",
   "metadata": {},
   "outputs": [
    {
     "name": "stdout",
     "output_type": "stream",
     "text": [
      "a    10\n",
      "b    20\n",
      "c    30\n",
      "d    40\n",
      "dtype: int64\n"
     ]
    }
   ],
   "source": [
    "# Series example with Dict.\n",
    "import pandas as pd\n",
    "\n",
    "\n",
    "i = {'a':10,'b':20,'c':30,'d':40}\n",
    "j = pd.Series(i)\n",
    "print(j)"
   ]
  },
  {
   "cell_type": "code",
   "execution_count": 19,
   "id": "cd5ffd3d",
   "metadata": {},
   "outputs": [
    {
     "name": "stdout",
     "output_type": "stream",
     "text": [
      "0    John\n",
      "1    John\n",
      "2    John\n",
      "3    John\n",
      "4    John\n",
      "5    John\n",
      "dtype: object\n"
     ]
    }
   ],
   "source": [
    "# Series example with Scalar Values\n",
    "import pandas as pd\n",
    "\n",
    "i = pd.Series('John',index=[0,1,2,3,4,5])\n",
    "print(i)"
   ]
  },
  {
   "cell_type": "code",
   "execution_count": 22,
   "id": "8ab83245",
   "metadata": {},
   "outputs": [
    {
     "name": "stdout",
     "output_type": "stream",
     "text": [
      "0    HTML\n",
      "1     CSS\n",
      "2     SQL\n",
      "3    HTML\n",
      "4     CSS\n",
      "5     SQL\n",
      "dtype: object\n"
     ]
    }
   ],
   "source": [
    "# Series example with Scalar Values\n",
    "import pandas as pd\n",
    "\n",
    "\n",
    "i = pd.Series(['HTML','CSS','SQL','HTML','CSS','SQL'],index=[0,1,2,3,4,5])\n",
    "print(i)"
   ]
  },
  {
   "cell_type": "code",
   "execution_count": 17,
   "id": "ea97dfe5",
   "metadata": {},
   "outputs": [
    {
     "name": "stdout",
     "output_type": "stream",
     "text": [
      "CSS\n"
     ]
    }
   ],
   "source": [
    "# Series example with Scalar Values access data\n",
    "print(i[4])"
   ]
  },
  {
   "cell_type": "code",
   "execution_count": 18,
   "id": "0503ebd9",
   "metadata": {},
   "outputs": [
    {
     "name": "stdout",
     "output_type": "stream",
     "text": [
      "HTML\n"
     ]
    }
   ],
   "source": [
    "# Series example with Scalar Values access data\n",
    "print(i[0])"
   ]
  },
  {
   "cell_type": "code",
   "execution_count": 2,
   "id": "2b133cb8",
   "metadata": {},
   "outputs": [
    {
     "ename": "ValueError",
     "evalue": "Length of values (6) does not match length of index (7)",
     "output_type": "error",
     "traceback": [
      "\u001b[1;31m---------------------------------------------------------------------------\u001b[0m",
      "\u001b[1;31mValueError\u001b[0m                                Traceback (most recent call last)",
      "\u001b[1;32m~\\AppData\\Local\\Temp/ipykernel_6184/3203341800.py\u001b[0m in \u001b[0;36m<module>\u001b[1;34m\u001b[0m\n\u001b[0;32m      3\u001b[0m \u001b[1;33m\u001b[0m\u001b[0m\n\u001b[0;32m      4\u001b[0m \u001b[1;33m\u001b[0m\u001b[0m\n\u001b[1;32m----> 5\u001b[1;33m \u001b[0mi\u001b[0m \u001b[1;33m=\u001b[0m \u001b[0mpd\u001b[0m\u001b[1;33m.\u001b[0m\u001b[0mSeries\u001b[0m\u001b[1;33m(\u001b[0m\u001b[1;33m[\u001b[0m\u001b[1;34m'HTML'\u001b[0m\u001b[1;33m,\u001b[0m\u001b[1;34m'CSS'\u001b[0m\u001b[1;33m,\u001b[0m\u001b[1;34m'SQL'\u001b[0m\u001b[1;33m,\u001b[0m\u001b[1;34m'HTML'\u001b[0m\u001b[1;33m,\u001b[0m\u001b[1;34m'CSS'\u001b[0m\u001b[1;33m,\u001b[0m\u001b[1;34m'SQL'\u001b[0m\u001b[1;33m]\u001b[0m\u001b[1;33m,\u001b[0m\u001b[0mindex\u001b[0m\u001b[1;33m=\u001b[0m\u001b[1;33m[\u001b[0m\u001b[1;36m0\u001b[0m\u001b[1;33m,\u001b[0m\u001b[1;36m1\u001b[0m\u001b[1;33m,\u001b[0m\u001b[1;36m2\u001b[0m\u001b[1;33m,\u001b[0m\u001b[1;36m3\u001b[0m\u001b[1;33m,\u001b[0m\u001b[1;36m4\u001b[0m\u001b[1;33m,\u001b[0m\u001b[1;36m5\u001b[0m\u001b[1;33m,\u001b[0m\u001b[1;36m6\u001b[0m\u001b[1;33m]\u001b[0m\u001b[1;33m)\u001b[0m\u001b[1;33m\u001b[0m\u001b[1;33m\u001b[0m\u001b[0m\n\u001b[0m\u001b[0;32m      6\u001b[0m \u001b[0mprint\u001b[0m\u001b[1;33m(\u001b[0m\u001b[0mi\u001b[0m\u001b[1;33m)\u001b[0m\u001b[1;33m\u001b[0m\u001b[1;33m\u001b[0m\u001b[0m\n",
      "\u001b[1;32m~\\anaconda3\\lib\\site-packages\\pandas\\core\\series.py\u001b[0m in \u001b[0;36m__init__\u001b[1;34m(self, data, index, dtype, name, copy, fastpath)\u001b[0m\n\u001b[0;32m    428\u001b[0m                 \u001b[0mindex\u001b[0m \u001b[1;33m=\u001b[0m \u001b[0mibase\u001b[0m\u001b[1;33m.\u001b[0m\u001b[0mdefault_index\u001b[0m\u001b[1;33m(\u001b[0m\u001b[0mlen\u001b[0m\u001b[1;33m(\u001b[0m\u001b[0mdata\u001b[0m\u001b[1;33m)\u001b[0m\u001b[1;33m)\u001b[0m\u001b[1;33m\u001b[0m\u001b[1;33m\u001b[0m\u001b[0m\n\u001b[0;32m    429\u001b[0m             \u001b[1;32melif\u001b[0m \u001b[0mis_list_like\u001b[0m\u001b[1;33m(\u001b[0m\u001b[0mdata\u001b[0m\u001b[1;33m)\u001b[0m\u001b[1;33m:\u001b[0m\u001b[1;33m\u001b[0m\u001b[1;33m\u001b[0m\u001b[0m\n\u001b[1;32m--> 430\u001b[1;33m                 \u001b[0mcom\u001b[0m\u001b[1;33m.\u001b[0m\u001b[0mrequire_length_match\u001b[0m\u001b[1;33m(\u001b[0m\u001b[0mdata\u001b[0m\u001b[1;33m,\u001b[0m \u001b[0mindex\u001b[0m\u001b[1;33m)\u001b[0m\u001b[1;33m\u001b[0m\u001b[1;33m\u001b[0m\u001b[0m\n\u001b[0m\u001b[0;32m    431\u001b[0m \u001b[1;33m\u001b[0m\u001b[0m\n\u001b[0;32m    432\u001b[0m             \u001b[1;31m# create/copy the manager\u001b[0m\u001b[1;33m\u001b[0m\u001b[1;33m\u001b[0m\u001b[0m\n",
      "\u001b[1;32m~\\anaconda3\\lib\\site-packages\\pandas\\core\\common.py\u001b[0m in \u001b[0;36mrequire_length_match\u001b[1;34m(data, index)\u001b[0m\n\u001b[0;32m    529\u001b[0m     \"\"\"\n\u001b[0;32m    530\u001b[0m     \u001b[1;32mif\u001b[0m \u001b[0mlen\u001b[0m\u001b[1;33m(\u001b[0m\u001b[0mdata\u001b[0m\u001b[1;33m)\u001b[0m \u001b[1;33m!=\u001b[0m \u001b[0mlen\u001b[0m\u001b[1;33m(\u001b[0m\u001b[0mindex\u001b[0m\u001b[1;33m)\u001b[0m\u001b[1;33m:\u001b[0m\u001b[1;33m\u001b[0m\u001b[1;33m\u001b[0m\u001b[0m\n\u001b[1;32m--> 531\u001b[1;33m         raise ValueError(\n\u001b[0m\u001b[0;32m    532\u001b[0m             \u001b[1;34m\"Length of values \"\u001b[0m\u001b[1;33m\u001b[0m\u001b[1;33m\u001b[0m\u001b[0m\n\u001b[0;32m    533\u001b[0m             \u001b[1;34mf\"({len(data)}) \"\u001b[0m\u001b[1;33m\u001b[0m\u001b[1;33m\u001b[0m\u001b[0m\n",
      "\u001b[1;31mValueError\u001b[0m: Length of values (6) does not match length of index (7)"
     ]
    }
   ],
   "source": [
    "# Series example with Scalar Values(error_index not match)\n",
    "import pandas as pd\n",
    "\n",
    "\n",
    "i = pd.Series(['HTML','CSS','SQL','HTML','CSS','SQL'],index=[0,1,2,3,4,5,6])\n",
    "print(i)"
   ]
  },
  {
   "cell_type": "code",
   "execution_count": 23,
   "id": "d8587442",
   "metadata": {},
   "outputs": [
    {
     "name": "stdout",
     "output_type": "stream",
     "text": [
      "a    HTML\n",
      "b     CSS\n",
      "2     SQL\n",
      "dtype: object\n",
      "Index(['a', 'b', 2], dtype='object')\n",
      "['HTML' 'CSS' 'SQL']\n"
     ]
    }
   ],
   "source": [
    "# Series example fetch Index and Values\n",
    "import pandas as pd\n",
    "\n",
    "\n",
    "i = pd.Series(['HTML','CSS','SQL'],index=['a','b',2])\n",
    "print(i)\n",
    "print(i.index)\n",
    "print(i.values)"
   ]
  },
  {
   "cell_type": "code",
   "execution_count": 26,
   "id": "6768fb0d",
   "metadata": {},
   "outputs": [
    {
     "name": "stdout",
     "output_type": "stream",
     "text": [
      "a    HTML\n",
      "b     CSS\n",
      "2     SQL\n",
      "dtype: object\n",
      "\n",
      "0      HTML\n",
      "1       CSS\n",
      "2       SQL\n",
      "3    Python\n",
      "dtype: object\n",
      "Index(['a', 'b', 2], dtype='object')\n",
      "\n",
      "RangeIndex(start=0, stop=4, step=1)\n"
     ]
    }
   ],
   "source": [
    "# Series example fetch Index \n",
    "import pandas as pd\n",
    "import numpy as np\n",
    "\n",
    "i = pd.Series(['HTML','CSS','SQL'],index=['a','b',2])\n",
    "j = pd.Series(['HTML','CSS','SQL','Python'])\n",
    "print(i)\n",
    "print()\n",
    "print(j)\n",
    "\n",
    "print(i.index)\n",
    "print()\n",
    "print(j.index)"
   ]
  },
  {
   "cell_type": "code",
   "execution_count": 25,
   "id": "58357a7c",
   "metadata": {},
   "outputs": [
    {
     "name": "stdout",
     "output_type": "stream",
     "text": [
      "a    HTML\n",
      "b     CSS\n",
      "2     SQL\n",
      "dtype: object\n",
      "\n",
      "0      HTML\n",
      "1       CSS\n",
      "2       SQL\n",
      "3    Python\n",
      "dtype: object\n",
      "['HTML' 'CSS' 'SQL']\n",
      "\n",
      "['HTML' 'CSS' 'SQL' 'Python']\n"
     ]
    }
   ],
   "source": [
    "# Series example fetch Values\n",
    "import pandas as pd\n",
    "\n",
    "\n",
    "i = pd.Series(['HTML','CSS','SQL'],index=['a','b',2])\n",
    "j = pd.Series(['HTML','CSS','SQL','Python'])\n",
    "print(i)\n",
    "print()\n",
    "print(j)\n",
    "\n",
    "print(i.values)\n",
    "print()\n",
    "print(j.values)"
   ]
  },
  {
   "cell_type": "code",
   "execution_count": 26,
   "id": "764885f8",
   "metadata": {},
   "outputs": [
    {
     "name": "stdout",
     "output_type": "stream",
     "text": [
      "0    10\n",
      "1    20\n",
      "2    30\n",
      "3    40\n",
      "4    50\n",
      "5    60\n",
      "dtype: int64\n",
      "\n",
      "0    10.1\n",
      "1    20.2\n",
      "2    30.3\n",
      "3    40.4\n",
      "4    50.5\n",
      "5    60.6\n",
      "dtype: float64\n"
     ]
    }
   ],
   "source": [
    "import pandas as pd\n",
    "\n",
    "i = pd.Series([10,20,30,40,50,60])\n",
    "j = pd.Series([10.10,20.20,30.30,40.40,50.50,60.60])\n",
    "print(i)\n",
    "print()\n",
    "print(j)"
   ]
  },
  {
   "cell_type": "code",
   "execution_count": 29,
   "id": "b2d64ea0",
   "metadata": {},
   "outputs": [
    {
     "name": "stdout",
     "output_type": "stream",
     "text": [
      "int64\n"
     ]
    }
   ],
   "source": [
    "# Series example fetch data type\n",
    "print(i.dtype)"
   ]
  },
  {
   "cell_type": "code",
   "execution_count": 3,
   "id": "45755c93",
   "metadata": {},
   "outputs": [],
   "source": [
    "# Series example fetch data type\n",
    "print(j.dtype)"
   ]
  },
  {
   "cell_type": "code",
   "execution_count": 17,
   "id": "c5062828",
   "metadata": {},
   "outputs": [
    {
     "name": "stdout",
     "output_type": "stream",
     "text": [
      "0    10\n",
      "1    20\n",
      "2    30\n",
      "3    40\n",
      "4    50\n",
      "dtype: int64\n",
      "\n",
      "0    a\n",
      "1    b\n",
      "2    c\n",
      "3    d\n",
      "dtype: object\n"
     ]
    }
   ],
   "source": [
    "import pandas as pd\n",
    "\n",
    "\n",
    "i = pd.Series([10,20,30,40,50])\n",
    "j = pd.Series(['a','b','c','d'])\n",
    "print(i)\n",
    "print()\n",
    "print(j)"
   ]
  },
  {
   "cell_type": "code",
   "execution_count": 32,
   "id": "3c99dd04",
   "metadata": {},
   "outputs": [
    {
     "name": "stdout",
     "output_type": "stream",
     "text": [
      "(5,)\n",
      "(4,)\n"
     ]
    }
   ],
   "source": [
    "# Series example fetch shape\n",
    "print(i.shape)\n",
    "print(j.shape)"
   ]
  },
  {
   "cell_type": "code",
   "execution_count": 35,
   "id": "2489053e",
   "metadata": {},
   "outputs": [
    {
     "name": "stdout",
     "output_type": "stream",
     "text": [
      "1\n",
      "1\n"
     ]
    }
   ],
   "source": [
    "# Series example fetch Dimension\n",
    "print(i.ndim)\n",
    "print(j.ndim)"
   ]
  },
  {
   "cell_type": "code",
   "execution_count": 36,
   "id": "7e9f800d",
   "metadata": {},
   "outputs": [
    {
     "name": "stdout",
     "output_type": "stream",
     "text": [
      "5\n",
      "4\n"
     ]
    }
   ],
   "source": [
    "# Series example fetch size\n",
    "print(i.size)\n",
    "print(j.size)"
   ]
  },
  {
   "cell_type": "code",
   "execution_count": 27,
   "id": "7b02d5f8",
   "metadata": {},
   "outputs": [
    {
     "name": "stdout",
     "output_type": "stream",
     "text": [
      "0    10\n",
      "1    20\n",
      "2    30\n",
      "3    40\n",
      "4    50\n",
      "dtype: int64\n",
      "0    a\n",
      "1    b\n",
      "2    c\n",
      "3    d\n",
      "dtype: object\n",
      "Series([], dtype: float64)\n"
     ]
    },
    {
     "name": "stderr",
     "output_type": "stream",
     "text": [
      "C:\\Users\\India\\AppData\\Local\\Temp/ipykernel_7160/684310813.py:6: DeprecationWarning: The default dtype for empty Series will be 'object' instead of 'float64' in a future version. Specify a dtype explicitly to silence this warning.\n",
      "  k = pd.Series([])\n"
     ]
    }
   ],
   "source": [
    "# Series example Empty\n",
    "\n",
    "\n",
    "i = pd.Series([10,20,30,40,50])\n",
    "j = pd.Series(['a','b','c','d'])\n",
    "k = pd.Series([])\n",
    "print(i)\n",
    "print(j)\n",
    "print(k)"
   ]
  },
  {
   "cell_type": "code",
   "execution_count": 2,
   "id": "c707b19b",
   "metadata": {},
   "outputs": [
    {
     "name": "stdout",
     "output_type": "stream",
     "text": [
      "False\n",
      "False\n",
      "True\n"
     ]
    }
   ],
   "source": [
    "print(i.empty)\n",
    "print(j.empty)\n",
    "print(k.empty)"
   ]
  },
  {
   "cell_type": "code",
   "execution_count": 28,
   "id": "e84eb0cf",
   "metadata": {},
   "outputs": [
    {
     "name": "stdout",
     "output_type": "stream",
     "text": [
      "0    10.0\n",
      "1    20.0\n",
      "2    30.0\n",
      "3    40.0\n",
      "4    50.0\n",
      "5     NaN\n",
      "dtype: float64\n",
      "0    a\n",
      "1    b\n",
      "2    c\n",
      "3    d\n",
      "dtype: object\n",
      "Series([], dtype: float64)\n"
     ]
    },
    {
     "name": "stderr",
     "output_type": "stream",
     "text": [
      "C:\\Users\\India\\AppData\\Local\\Temp/ipykernel_7160/195309306.py:6: DeprecationWarning: The default dtype for empty Series will be 'object' instead of 'float64' in a future version. Specify a dtype explicitly to silence this warning.\n",
      "  k = pd.Series([])\n"
     ]
    }
   ],
   "source": [
    "# Series example hasnans\n",
    "import pandas as pd\n",
    "\n",
    "\n",
    "i = pd.Series([10,20,30,40,50,np.NaN])\n",
    "j = pd.Series(['a','b','c','d'])\n",
    "k = pd.Series([])\n",
    "print(i)\n",
    "print(j)\n",
    "print(k)"
   ]
  },
  {
   "cell_type": "code",
   "execution_count": 5,
   "id": "357735ff",
   "metadata": {},
   "outputs": [
    {
     "name": "stdout",
     "output_type": "stream",
     "text": [
      "True\n",
      "False\n",
      "False\n"
     ]
    }
   ],
   "source": [
    "print(i.hasnans)\n",
    "print(j.hasnans)\n",
    "print(k.hasnans)"
   ]
  },
  {
   "cell_type": "code",
   "execution_count": 7,
   "id": "b3bce6a1",
   "metadata": {},
   "outputs": [
    {
     "name": "stdout",
     "output_type": "stream",
     "text": [
      "1.3.4\n"
     ]
    }
   ],
   "source": [
    "# program to check pandas Version\n",
    "import pandas\n",
    "print(pandas.__version__)"
   ]
  },
  {
   "cell_type": "code",
   "execution_count": 9,
   "id": "f6ec79f0",
   "metadata": {},
   "outputs": [
    {
     "data": {
      "text/plain": [
       "0    10.0\n",
       "1    20.0\n",
       "2    30.0\n",
       "3    40.0\n",
       "4    50.0\n",
       "dtype: float64"
      ]
     },
     "execution_count": 9,
     "metadata": {},
     "output_type": "execute_result"
    }
   ],
   "source": [
    "# Series example of change data type\n",
    "import pandas as pd\n",
    "\n",
    "i = pd.Series([10,20,30,40,50],index=[0,1,2,3,4],dtype=float)\n",
    "i"
   ]
  },
  {
   "cell_type": "code",
   "execution_count": 10,
   "id": "78f8f747",
   "metadata": {},
   "outputs": [
    {
     "data": {
      "text/plain": [
       "0    10.0\n",
       "1    20.0\n",
       "2    30.0\n",
       "3    40.0\n",
       "4    50.0\n",
       "Name: Data Values, dtype: float64"
      ]
     },
     "execution_count": 10,
     "metadata": {},
     "output_type": "execute_result"
    }
   ],
   "source": [
    "# Series Name example\n",
    "\n",
    "i = pd.Series([10,20,30,40,50],\n",
    "              index=[0,1,2,3,4],\n",
    "              dtype=float,\n",
    "             name='Data Values')\n",
    "i"
   ]
  },
  {
   "cell_type": "code",
   "execution_count": 13,
   "id": "d541ed6c",
   "metadata": {},
   "outputs": [
    {
     "name": "stdout",
     "output_type": "stream",
     "text": [
      "0    10\n",
      "a    20\n",
      "2    30\n",
      "3    40\n",
      "4    50\n",
      "dtype: int64\n"
     ]
    }
   ],
   "source": [
    "import pandas as pd\n",
    "\n",
    "i = pd.Series([10,20,30,40,50],index=[0,'a',2,3,4])\n",
    "print(i)"
   ]
  },
  {
   "cell_type": "code",
   "execution_count": 14,
   "id": "540b5b1b",
   "metadata": {},
   "outputs": [
    {
     "name": "stdout",
     "output_type": "stream",
     "text": [
      "a    20\n",
      "2    30\n",
      "3    40\n",
      "dtype: int64\n"
     ]
    }
   ],
   "source": [
    "# Series example Slicing\n",
    "print(i[1:4])"
   ]
  },
  {
   "cell_type": "code",
   "execution_count": 16,
   "id": "8df04f5d",
   "metadata": {},
   "outputs": [
    {
     "name": "stdout",
     "output_type": "stream",
     "text": [
      "10\n",
      "50\n"
     ]
    }
   ],
   "source": [
    "# Series example forr Max. and Min. value\n",
    "print(min(i))\n",
    "print(max(i))"
   ]
  },
  {
   "cell_type": "code",
   "execution_count": 29,
   "id": "d4a8681c",
   "metadata": {},
   "outputs": [
    {
     "name": "stdout",
     "output_type": "stream",
     "text": [
      "0    10\n",
      "1    20\n",
      "2    30\n",
      "3    40\n",
      "dtype: int64\n",
      "0    1\n",
      "1    2\n",
      "2    3\n",
      "3    4\n",
      "dtype: int64\n",
      "0    11\n",
      "1    22\n",
      "2    33\n",
      "3    44\n",
      "dtype: int64\n"
     ]
    }
   ],
   "source": [
    "# Series example for add operation(Equal value)\n",
    "import pandas as pd\n",
    "\n",
    "i = pd.Series([10,20,30,40])\n",
    "j = pd.Series([1,2,3,4])\n",
    "print(i)\n",
    "print(j)\n",
    "print(i+j)"
   ]
  },
  {
   "cell_type": "code",
   "execution_count": 30,
   "id": "03b43725",
   "metadata": {},
   "outputs": [
    {
     "name": "stdout",
     "output_type": "stream",
     "text": [
      "0    10\n",
      "1    20\n",
      "2    30\n",
      "3    40\n",
      "dtype: int64\n",
      "0    1\n",
      "1    2\n",
      "2    3\n",
      "3    4\n",
      "4    5\n",
      "dtype: int64\n",
      "0    11.0\n",
      "1    22.0\n",
      "2    33.0\n",
      "3    44.0\n",
      "4     NaN\n",
      "dtype: float64\n"
     ]
    }
   ],
   "source": [
    "# Series example for add operation(Non-Equal value)\n",
    "import pandas as pd\n",
    "\n",
    "i = pd.Series([10,20,30,40])\n",
    "j = pd.Series([1,2,3,4,5])\n",
    "print(i)\n",
    "print(j)\n",
    "print(i+j)"
   ]
  },
  {
   "cell_type": "code",
   "execution_count": null,
   "id": "d7650d51",
   "metadata": {},
   "outputs": [],
   "source": []
  }
 ],
 "metadata": {
  "kernelspec": {
   "display_name": "Python 3 (ipykernel)",
   "language": "python",
   "name": "python3"
  },
  "language_info": {
   "codemirror_mode": {
    "name": "ipython",
    "version": 3
   },
   "file_extension": ".py",
   "mimetype": "text/x-python",
   "name": "python",
   "nbconvert_exporter": "python",
   "pygments_lexer": "ipython3",
   "version": "3.9.7"
  }
 },
 "nbformat": 4,
 "nbformat_minor": 5
}
